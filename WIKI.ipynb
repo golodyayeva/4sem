{
 "cells": [
  {
   "cell_type": "code",
   "execution_count": 4,
   "metadata": {},
   "outputs": [
    {
     "data": {
      "text/plain": [
       "True"
      ]
     },
     "execution_count": 4,
     "metadata": {},
     "output_type": "execute_result"
    }
   ],
   "source": [
    "from bs4 import BeautifulSoup\n",
    "import requests\n",
    "url = \"https://ru.wikipedia.org/w/index.php?oldid=75475510\"\n",
    "g = requests.get(url)\n",
    "g.ok\n",
    "\n"
   ]
  },
  {
   "cell_type": "code",
   "execution_count": 5,
   "metadata": {},
   "outputs": [
    {
     "name": "stdout",
     "output_type": "stream",
     "text": [
      "//ru.wikipedia.org/wiki/%D0%9C%D0%B0%D1%81%D1%82%D0%B5%D1%80_%D0%B8_%D0%9C%D0%B0%D1%80%D0%B3%D0%B0%D1%80%D0%B8%D1%82%D0%B0\n",
      "//ru.wikipedia.org/w/index.php?title=%D0%9C%D0%B0%D1%81%D1%82%D0%B5%D1%80_%D0%B8_%D0%9C%D0%B0%D1%80%D0%B3%D0%B0%D1%80%D0%B8%D1%82%D0%B0&stableid=75475510\n",
      "//ru.wikipedia.org/w/index.php?title=%D0%A1%D0%BB%D1%83%D0%B6%D0%B5%D0%B1%D0%BD%D0%B0%D1%8F:Log&type=review&page=%D0%9C%D0%B0%D1%81%D1%82%D0%B5%D1%80_%D0%B8_%D0%9C%D0%B0%D1%80%D0%B3%D0%B0%D1%80%D0%B8%D1%82%D0%B0\n",
      "http://dombulgakova.ru/bulgakovskaya-biblioteka-2/lidiya-yanovskaya-o-romane-bulgakova-mas/\n",
      "http://magazines.russ.ru/zvezda/2000/6/suhih.html\n",
      "http://magazines.russ.ru/sib/2013/6/10d.html\n",
      "http://mirknig.mobi/data/2012-12-06/1291088/Chudakova_Vremya_chitat_3_Ne_dlya_vzroslyih._Vremya_chitat_Polka_tretya.1291088.pdf\n",
      "http://www.e-reading.club/chapter.php/39079/24/Zerkalov_-_Etika_Mihaila_Bulgakova.html\n",
      "http://www.litmir.co/br/?b=65955&p=163\n",
      "http://www.bulgakov.ru/m/morphiy/\n",
      "http://www.russofile.ru/articles/article_67.php\n",
      "http://feb-web.ru/feb/mayakovsky/texts/ms0/ms9/ms9-183-.htm\n",
      "http://magazines.russ.ru/slovo/2008/58/ko11.html\n",
      "http://magazines.russ.ru/nlo/2005/76/bra.html\n",
      "http://www.rg.ru/2005/12/16/master.html\n",
      "http://magazines.russ.ru/voplit/2009/4/ga8.html\n",
      "http://magazines.russ.ru/znamia/2011/10/bo30.html\n",
      "http://kinoart.ru/archive/2006/01/n1-article4\n",
      "http://magazines.russ.ru/znamia/2007/1/bu17.html\n",
      "http://izvestia.ru/news/499828\n",
      "http://www.rg.ru/2011/09/08/mht.html\n",
      "https://musicbrainz.org/work/2fa8ecec-2103-4aa7-97f1-2fbfd1c0607d\n",
      "https://global.britannica.com/topic/The-Master-and-Margarita\n",
      "http://catalogue.bnf.fr/ark:/12148/cb11941979p\n",
      "http://www.idref.fr/027361241\n",
      "http://viaf.org/viaf/175580487\n"
     ]
    }
   ],
   "source": [
    "page = BeautifulSoup(g.text, \"html.parser\")\n",
    "for link in page.findAll(\"a\", class_='external'):\n",
    "    print(link['href'])"
   ]
  },
  {
   "cell_type": "code",
   "execution_count": 7,
   "metadata": {},
   "outputs": [
    {
     "data": {
      "text/plain": [
       "1"
      ]
     },
     "execution_count": 7,
     "metadata": {},
     "output_type": "execute_result"
    }
   ],
   "source": [
    "\n",
    "divs = page.findAll('div', class_='references-small')\n",
    "len(divs)"
   ]
  },
  {
   "cell_type": "code",
   "execution_count": 9,
   "metadata": {},
   "outputs": [
    {
     "name": "stdout",
     "output_type": "stream",
     "text": [
      "#cite_ref-_26cc6ad5c5a3baa3_1-0\n",
      "#CITEREFЛесскис1999\n",
      "#cite_ref-_6e637976a425c02e_2-0\n",
      "#cite_ref-_6e637976a425c02e_2-1\n",
      "#CITEREFЛосев1993\n",
      "#cite_ref-_26cc6ad5c5a3baa4_3-0\n",
      "#CITEREFЛесскис1999\n",
      "#cite_ref-_a0952ae4a2ede05b_4-0\n",
      "#CITEREFЧудакова1988\n",
      "#cite_ref-_a0952ae4a2ede05a_5-0\n",
      "#CITEREFЧудакова1988\n",
      "#cite_ref-_5f91aa316898efa5_6-0\n",
      "#cite_ref-_5f91aa316898efa5_6-1\n",
      "#cite_ref-_5f91aa316898efa5_6-2\n",
      "#CITEREFСоколов1997\n"
     ]
    }
   ],
   "source": [
    "div = page.findAll('div', class_='references-small')[0]\n",
    "for link in div(\"a\")[0:15]:\n",
    "    print(link['href'])"
   ]
  },
  {
   "cell_type": "code",
   "execution_count": null,
   "metadata": {},
   "outputs": [],
   "source": []
  }
 ],
 "metadata": {
  "kernelspec": {
   "display_name": "Python 3",
   "language": "python",
   "name": "python3"
  },
  "language_info": {
   "codemirror_mode": {
    "name": "ipython",
    "version": 3
   },
   "file_extension": ".py",
   "mimetype": "text/x-python",
   "name": "python",
   "nbconvert_exporter": "python",
   "pygments_lexer": "ipython3",
   "version": "3.6.5"
  }
 },
 "nbformat": 4,
 "nbformat_minor": 2
}
